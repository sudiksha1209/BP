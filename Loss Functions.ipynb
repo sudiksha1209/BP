{
 "cells": [
  {
   "cell_type": "code",
   "execution_count": 1,
   "id": "939ce113",
   "metadata": {},
   "outputs": [],
   "source": [
    "import torch\n",
    "import torch.nn as nn"
   ]
  },
  {
   "cell_type": "code",
   "execution_count": 3,
   "id": "3d0d08ad",
   "metadata": {},
   "outputs": [
    {
     "name": "stdout",
     "output_type": "stream",
     "text": [
      "tensor([[ 0.2038,  0.4880, -0.9008, -0.1254, -1.6854],\n",
      "        [-0.9293,  0.5665,  0.9608,  0.0460, -0.1810],\n",
      "        [-0.5861,  1.9265, -0.6222,  1.2896, -1.0495],\n",
      "        [ 3.1029,  2.6405, -1.5447,  1.7703,  1.9656]])\n"
     ]
    }
   ],
   "source": [
    "prediction = torch.randn(4, 5)\n",
    "print(prediction)"
   ]
  },
  {
   "cell_type": "code",
   "execution_count": 6,
   "id": "834f3f34",
   "metadata": {},
   "outputs": [],
   "source": [
    "#mean sqaured error\n",
    "label = torch.randn(4, 5)"
   ]
  },
  {
   "cell_type": "code",
   "execution_count": 17,
   "id": "f4173273",
   "metadata": {},
   "outputs": [],
   "source": [
    "mse = nn.MSELoss(reduction='mean')"
   ]
  },
  {
   "cell_type": "code",
   "execution_count": 18,
   "id": "f2c9e8c2",
   "metadata": {},
   "outputs": [],
   "source": [
    "loss = mse(prediction, label)"
   ]
  },
  {
   "cell_type": "code",
   "execution_count": 19,
   "id": "64989252",
   "metadata": {},
   "outputs": [
    {
     "data": {
      "text/plain": [
       "tensor(3.9685)"
      ]
     },
     "execution_count": 19,
     "metadata": {},
     "output_type": "execute_result"
    }
   ],
   "source": [
    "loss"
   ]
  },
  {
   "cell_type": "code",
   "execution_count": 21,
   "id": "5dcc9070",
   "metadata": {},
   "outputs": [
    {
     "data": {
      "text/plain": [
       "tensor(3.9685)"
      ]
     },
     "execution_count": 21,
     "metadata": {},
     "output_type": "execute_result"
    }
   ],
   "source": [
    "#from scratch\n",
    "((prediction-label)**2).mean()"
   ]
  },
  {
   "cell_type": "code",
   "execution_count": 22,
   "id": "6e7137df",
   "metadata": {},
   "outputs": [
    {
     "data": {
      "text/plain": [
       "tensor([[ 0.2038,  0.4880, -0.9008, -0.1254, -1.6854],\n",
       "        [-0.9293,  0.5665,  0.9608,  0.0460, -0.1810],\n",
       "        [-0.5861,  1.9265, -0.6222,  1.2896, -1.0495],\n",
       "        [ 3.1029,  2.6405, -1.5447,  1.7703,  1.9656]])"
      ]
     },
     "execution_count": 22,
     "metadata": {},
     "output_type": "execute_result"
    }
   ],
   "source": [
    "prediction"
   ]
  },
  {
   "cell_type": "code",
   "execution_count": 23,
   "id": "4ad74349",
   "metadata": {},
   "outputs": [],
   "source": [
    "label = torch.zeros(4, 5).random_(0, 2)"
   ]
  },
  {
   "cell_type": "code",
   "execution_count": 24,
   "id": "2047c06a",
   "metadata": {},
   "outputs": [
    {
     "data": {
      "text/plain": [
       "tensor([[1., 0., 0., 1., 1.],\n",
       "        [0., 1., 0., 1., 0.],\n",
       "        [0., 0., 0., 0., 1.],\n",
       "        [0., 0., 0., 0., 0.]])"
      ]
     },
     "execution_count": 24,
     "metadata": {},
     "output_type": "execute_result"
    }
   ],
   "source": [
    "label"
   ]
  },
  {
   "cell_type": "code",
   "execution_count": 25,
   "id": "e8cc8fca",
   "metadata": {},
   "outputs": [],
   "source": [
    "sigmoid = nn.Sigmoid()\n",
    "bce = nn.BCELoss(reduction='mean')"
   ]
  },
  {
   "cell_type": "code",
   "execution_count": 26,
   "id": "1caf88d1",
   "metadata": {},
   "outputs": [
    {
     "data": {
      "text/plain": [
       "tensor(1.1876)"
      ]
     },
     "execution_count": 26,
     "metadata": {},
     "output_type": "execute_result"
    }
   ],
   "source": [
    "bce(sigmoid(prediction), label)"
   ]
  },
  {
   "cell_type": "code",
   "execution_count": 30,
   "id": "6ad96def",
   "metadata": {},
   "outputs": [
    {
     "data": {
      "text/plain": [
       "tensor(1.1876)"
      ]
     },
     "execution_count": 30,
     "metadata": {},
     "output_type": "execute_result"
    }
   ],
   "source": [
    "bce_ll = nn.BCEWithLogitsLoss(reduction='mean')\n",
    "bce_ll(prediction, label)"
   ]
  },
  {
   "cell_type": "code",
   "execution_count": 38,
   "id": "dc62a42b",
   "metadata": {},
   "outputs": [
    {
     "name": "stdout",
     "output_type": "stream",
     "text": [
      "[[1. 0. 0. 1. 1.]\n",
      " [0. 1. 0. 1. 0.]\n",
      " [0. 0. 0. 0. 1.]\n",
      " [0. 0. 0. 0. 0.]]\n",
      "[[ 0.20380929  0.488043   -0.9007971  -0.12539648 -1.6854314 ]\n",
      " [-0.92934406  0.56651026  0.9607943   0.04595039 -0.18095078]\n",
      " [-0.5861091   1.9265486  -0.6222258   1.2896003  -1.0494517 ]\n",
      " [ 3.1029122   2.6405087  -1.5447264   1.7702743   1.965559  ]]\n"
     ]
    }
   ],
   "source": [
    "import numpy as np\n",
    "x = prediction.numpy()\n",
    "y = label.numpy()\n",
    "print(y)\n",
    "print(x)"
   ]
  },
  {
   "cell_type": "code",
   "execution_count": 45,
   "id": "d74705be",
   "metadata": {},
   "outputs": [],
   "source": [
    "#implementing sigmoid activation\n",
    "def sigmoid(x):\n",
    "    return 1/(1+np.exp(-x))"
   ]
  },
  {
   "cell_type": "code",
   "execution_count": 46,
   "id": "e11cbc5b",
   "metadata": {},
   "outputs": [],
   "source": [
    "x = sigmoid(x)"
   ]
  },
  {
   "cell_type": "code",
   "execution_count": 47,
   "id": "affac77e",
   "metadata": {},
   "outputs": [
    {
     "name": "stdout",
     "output_type": "stream",
     "text": [
      "0.8779683985949331\n"
     ]
    }
   ],
   "source": [
    "loss_values = []\n",
    "for i in range(len(y)):\n",
    "    batch_loss = []\n",
    "    for j in range(len(y[0])):\n",
    "        if (y[i][j] == 1):\n",
    "            loss = -np.log(x[i][j])\n",
    "        else:\n",
    "            loss = -np.log(1-x[i][j])\n",
    "        batch_loss.append(loss)\n",
    "    loss_values.append(batch_loss)\n",
    "print(np.mean(loss_values))"
   ]
  },
  {
   "cell_type": "code",
   "execution_count": null,
   "id": "d58ce8a1",
   "metadata": {},
   "outputs": [],
   "source": []
  }
 ],
 "metadata": {
  "kernelspec": {
   "display_name": "Python 3 (ipykernel)",
   "language": "python",
   "name": "python3"
  },
  "language_info": {
   "codemirror_mode": {
    "name": "ipython",
    "version": 3
   },
   "file_extension": ".py",
   "mimetype": "text/x-python",
   "name": "python",
   "nbconvert_exporter": "python",
   "pygments_lexer": "ipython3",
   "version": "3.9.13"
  }
 },
 "nbformat": 4,
 "nbformat_minor": 5
}
